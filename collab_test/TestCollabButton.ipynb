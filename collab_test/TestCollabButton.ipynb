{
 "cells": [
  {
   "cell_type": "code",
   "execution_count": null,
   "id": "fc807855-cf1c-4e82-9955-4cef3fb8a2f3",
   "metadata": {},
   "outputs": [],
   "source": [
    "#a file to test the collba "
   ]
  },
  {
   "cell_type": "markdown",
   "id": "14d0305d-d7ca-4317-a2fe-94cb55251a9d",
   "metadata": {},
   "source": [
    "[![Open In Colab](https://colab.research.google.com/assets/colab-badge.svg)](https://colab.research.google.com/github/ArtiVerma17/test/blob/main/collab_test/TestCollabButton.ipynb)\n"
   ]
  },
  {
   "cell_type": "code",
   "execution_count": null,
   "id": "a25e8643-25ac-41d9-bac5-1e944d7295c9",
   "metadata": {},
   "outputs": [],
   "source": [
    "# Information about where the book exists on the web\n",
    "repository:\n",
    "  url                       : https://github.com/ArtiVerma17/test  # Online location of your book\n",
    "  path_to_book              : collab_test  # Optional path to your book, relative to the repository root\n",
    "  branch                    : master  # Which branch of the repository should be used when creating links (optional)"
   ]
  },
  {
   "cell_type": "code",
   "execution_count": null,
   "id": "16e74514-c340-45ad-8586-bf1886e106db",
   "metadata": {},
   "outputs": [],
   "source": [
    "launch_buttons:\n",
    "  colab_url: \"https://colab.research.google.com\""
   ]
  },
  {
   "cell_type": "markdown",
   "id": "e33ae271-ded7-46eb-b2bb-aa5c028edb7d",
   "metadata": {},
   "source": [
    "#github.com/ArtiVerma17/test/blob/main/collab_test/TestCollabButton.ipynb\n",
    "#https://github.com/ArtiVerma17/test/blob/main/collab_test/TestCollabButton.ipynb"
   ]
  }
 ],
 "metadata": {
  "kernelspec": {
   "display_name": "Python 3 (ipykernel)",
   "language": "python",
   "name": "python3"
  },
  "language_info": {
   "codemirror_mode": {
    "name": "ipython",
    "version": 3
   },
   "file_extension": ".py",
   "mimetype": "text/x-python",
   "name": "python",
   "nbconvert_exporter": "python",
   "pygments_lexer": "ipython3",
   "version": "3.9.13"
  }
 },
 "nbformat": 4,
 "nbformat_minor": 5
}
